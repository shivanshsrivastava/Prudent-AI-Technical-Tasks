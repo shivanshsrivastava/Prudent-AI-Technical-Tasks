{
 "cells": [
  {
   "cell_type": "markdown",
   "metadata": {},
   "source": [
    "# This file contaings Task2 WITHDRAWAL tab code"
   ]
  },
  {
   "cell_type": "code",
   "execution_count": 1,
   "metadata": {},
   "outputs": [],
   "source": [
    "import json"
   ]
  },
  {
   "cell_type": "code",
   "execution_count": 2,
   "metadata": {},
   "outputs": [],
   "source": [
    "with open('C:\\\\Users\\\\HP\\\\Desktop\\\\task_input_list.json') as f:\n",
    "    d = json.load(f)"
   ]
  },
  {
   "cell_type": "code",
   "execution_count": 3,
   "metadata": {},
   "outputs": [],
   "source": [
    "# Creating lists to store all the results which will be finally placed in the excel sheet\n",
    "date_list = []\n",
    "description_list = []\n",
    "amount_list = []"
   ]
  },
  {
   "cell_type": "markdown",
   "metadata": {},
   "source": [
    "<h3>Note : I will be using results obtained from insights file to obtain results.</h3>"
   ]
  },
  {
   "cell_type": "code",
   "execution_count": 4,
   "metadata": {},
   "outputs": [],
   "source": [
    "# Formats of data, description and amount\n",
    "import re\n",
    "format1 = re.compile(r'(\\d{2})\\/(\\d{2})\\/(\\d{2})')\n",
    "format2 = re.compile(r'(\\d{1,})\\s(\\d{1,})')\n",
    "format3 = re.compile(r'(\\d+)(\\.\\d\\d)')"
   ]
  },
  {
   "cell_type": "code",
   "execution_count": 5,
   "metadata": {},
   "outputs": [],
   "source": [
    "# Combining the strings together for one of the entry\n",
    "d[112] = d[112] + ' ' + d[113] + d[114]\n",
    "d[123] = d[123] + ' ' + d[124] + d[125]"
   ]
  },
  {
   "cell_type": "code",
   "execution_count": 6,
   "metadata": {},
   "outputs": [],
   "source": [
    "import re\n",
    "for i in range(96,130):\n",
    "    if i in (113,114,124,125):\n",
    "        continue\n",
    "    \n",
    "    d[i]=d[i].replace(',','')\n",
    "    ans1 = re.search(format1,d[i])\n",
    "    if ans1 != None:\n",
    "        date_list.append(ans1.group())\n",
    "        \n",
    "    else:\n",
    "        ans2 = re.search(format3,d[i])\n",
    "        if ans2 != None:\n",
    "            amount_list.append(float(ans2.group())*-1)\n",
    "        else:\n",
    "            description_list.append(d[i]) "
   ]
  },
  {
   "cell_type": "code",
   "execution_count": 7,
   "metadata": {},
   "outputs": [],
   "source": [
    "# popping out column description\n",
    "for _ in range(3):\n",
    "    description_list.pop(0)"
   ]
  },
  {
   "cell_type": "markdown",
   "metadata": {},
   "source": [
    "<b><h2>Putting all the result in an excel file named xlwt Task2 in 'WITHDRAWALS' tab</h2></b>"
   ]
  },
  {
   "cell_type": "code",
   "execution_count": 8,
   "metadata": {},
   "outputs": [],
   "source": [
    "import xlwt\n",
    "from xlwt import Workbook\n",
    "  \n",
    "# Workbook is created\n",
    "wb = Workbook()\n",
    "  \n",
    "# add_sheet is used to create sheet.\n",
    "WITHDRAW = wb.add_sheet('WITHDRAW')\n",
    "WITHDRAW.write(0, 0, 'DATE')\n",
    "WITHDRAW.write(0, 1, 'DESCRIPTION')\n",
    "WITHDRAW.write(0, 2, 'AMOUNT')\n",
    "WITHDRAW.write(0, 3, 'DAY')\n",
    "WITHDRAW.write(0, 4, 'MONTH')\n",
    "WITHDRAW.write(0, 5, 'YEAR')\n",
    "\n",
    "index = 0\n",
    "for pos in range(1,10):\n",
    "    WITHDRAW.write(pos, 0, date_list[index])\n",
    "    WITHDRAW.write(pos, 1, description_list[index])\n",
    "    WITHDRAW.write(pos, 2, amount_list[index])\n",
    "    index += 1\n",
    "    \n",
    "wb.save('xlwt Task2-4-2.xls')"
   ]
  }
 ],
 "metadata": {
  "kernelspec": {
   "display_name": "Python 3",
   "language": "python",
   "name": "python3"
  },
  "language_info": {
   "codemirror_mode": {
    "name": "ipython",
    "version": 3
   },
   "file_extension": ".py",
   "mimetype": "text/x-python",
   "name": "python",
   "nbconvert_exporter": "python",
   "pygments_lexer": "ipython3",
   "version": "3.8.5"
  }
 },
 "nbformat": 4,
 "nbformat_minor": 4
}
