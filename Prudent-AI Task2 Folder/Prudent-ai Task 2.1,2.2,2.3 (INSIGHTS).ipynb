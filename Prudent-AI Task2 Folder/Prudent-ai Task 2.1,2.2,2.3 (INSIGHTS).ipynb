{
 "cells": [
  {
   "cell_type": "markdown",
   "metadata": {},
   "source": [
    "# This file contaings Task2 insights tab code"
   ]
  },
  {
   "cell_type": "code",
   "execution_count": 1,
   "metadata": {},
   "outputs": [],
   "source": [
    "import json"
   ]
  },
  {
   "cell_type": "code",
   "execution_count": 2,
   "metadata": {},
   "outputs": [
    {
     "name": "stdout",
     "output_type": "stream",
     "text": [
      "['ABC BANK', 'Preferred Rewards', 'P.O. Box 12345', 'Customer service information', 'Wilmington, DE 144444', '0', 'ph: (555) 555-1234', 'TDD/TTY users only call: (800) 555-1234', 'other: 1-800-555-1234', 'John Doe', 'bankingservices.com', 'Your Adv Plus Banking', 'Preferred Rewards Platinum', 'for November 27, 2018 to December 24, 2018', 'Account summary', 'Beginning balance on November 27, 2018', '$83,576.78', 'Deposits and other additions', '27,450.00', 'ATM and debit card subtractions', '-0.00', 'Other subtractions', '-50,923.23', 'Checks', '-949.00', 'Service fees', '-40.00', 'Ending balance on December 24, 2018', '$59,114.55', 'See all your benefits and rewards in one place', 'My Rewards lets you see your Preferred Rewards benefits plus any', 'Rewards', 'other rewards and benefits available to you.', 'Check out My Rewards at bankingservices.com/MyRewards', 'Page 1 of 6', 'November 27, 2018 to December 24, 2018', 'IMPORTANT INFORMATION:', 'BANK DEPOSIT ACCOUNTS', 'How to Contact Us - You may call us at the telephone number listed on the front of this statement.', 'Updating your contact information - We encourage you to keep your contact information up-to-date. This includes address, email', 'and phone number. If your information has changed, the easiest way to update it is by visiting the Help & Support tab of Online', 'Banking.', 'Deposit agreement - When you opened your account, you received a deposit agreement and fee schedule and agreed that your', 'account would be governed by the terms of these documents, as we may amend them from time to time. These documents are', 'part of the contract for your deposit account and govern all transactions relating to your account, including all deposits and', 'withdrawals. Copies of both the deposit agreement and fee schedule which contain the current version of the terms and', 'conditions of your account relationship may be obtained at our financial centers.', 'Electronic transfers: In case of errors or questions about your electronic transfers - If you think your statement or receipt is', 'wrong or you need more information about an electronic transfer (e.g., ATM transactions, direct deposits or withdrawals,', 'point-of-sale transactions) on the statement or receipt, telephone or write us at the address and number listed on the front of', 'this statement as soon as you can. We must hear from you no later than 60 days after we sent you the FIRST statement on', 'which the error or problem appeared.', 'Tell us your name and account number.', 'Describe the error or transfer you are unsure about, and explain as clearly as you can why you believe there is an error or', 'why you need more information.', 'Tell us the dollar amount of the suspected error.', 'For consumer accounts used primarily for personal, family or household purposes, we will investigate your complaint and will', 'correct any error promptly. If we take more than 10 business days (10 calendar days if you are a Massachusetts customer) (20', 'business days if you are a new customer, for electronic transfers occurring during the first 30 days after the first deposit is', 'made to your account) to do this, we will provisionally credit your account for the amount you think is in error, so that you will', 'have use of the money during the time it will take to complete our investigation.', 'For other accounts, we investigate, and if we find we have made an error, we credit your account at the conclusion of our', 'investigation.', 'Reporting other problems - You must examine your statement carefully and promptly. You are in the best position to discover', 'errors and unauthorized transactions on your account. If you fail to notify us in writing of suspected problems or an unauthorized', 'transaction within the time period specified in the deposit agreement (which periods are no more than 60 days after we make', 'the statement available to you and in some cases are 30 days or less), we are not liable to you and you agree to not make a', 'claim against us, for the problems or unauthorized transactions.', 'Direct deposits - If you have arranged to have direct deposits made to your account at least once every 60 days from the same', 'person or company, you may call us to find out if the deposit was made as scheduled. You may also review your activity online or', 'visit a financial center for information.', 'Equal Housing Lender', 'Page 2 of 6', 'November 27, 2018 to December 24, 2018', 'Deposits and other additions', 'Date', 'Description', 'Amount', '12/03/18', 'Counter Credit', '8,075.00', '12/10/18', 'Counter Credit', '9,970.00', '12/21/18', 'PAYPAL', 'DES:TRANSFER ID:1004561753452 INDN:', 'CO', '1,000.00', '12/24/18', 'Counter Credit', '8,405.00', 'Total deposits and other additions', '$27,450.00', 'Withdrawals and other subtractions', 'Other subtractions', 'Date', 'Description', 'Amount', '11/30/18', 'Automatic Transfer to SAV 2084 Confirmation# 1313790286', '-25.00', '12/03/18', 'Online Banking payment to CRD 8610 Confirmation# 0485104765', '-200.00', '12/04/18', 'Customer Withdrawal Image', '-12,000.00', '12/07/18', 'TRANSFER ', '-3,695.00', '12/11/18', 'CARFAX', 'DES:BT1210 ID:000000071591462 INDN:', 'CO ID:1251465303', '-399.98', '12/13/18', 'TRANSFER  :J Cars Confirmation# 0472167145', '-3,955.00', '12/19/18', 'TRANSFER  :J Cars Confirmation# 0423610629', '-13,990.00', '12/20/18', 'SOUTHWEST GAS DES:WEB', 'ID:1410023972050 INDN:JOHNSON', 'CO', '-28.25', '12/21/18', 'TRANSFER  :J Cars Confirmation# 1642822709', '-16,630.00', 'Total other subtractions', '-$50,923.23', 'Page 3 of 6', ' ', 'November 27, 2018 to December 24, 2018', 'Checks', 'Date', 'Check #', 'Amount', 'Date', 'Check #', 'Amount', '12/18/18', '1148', '-900.00', '11/28/18', \"1521'\", '-49.00', 'Total checks', '-$949.00', 'Total # of checks', '2', 'There is a gap in sequential check numbers', 'Service fees', 'Date', 'Transaction description', 'Amount', '12/10/18', 'External transfer fee - Next Day - 12/07/2018', '-10.00', '12/14/18', 'External transfer fee - Next Day - 12/13/2018', '-10.00', '12/20/18', 'External transfer fee - Next Day - 12/19/2018', '-10.00', '12/24/18', 'External transfer fee - Next Day - 12/21/2018', '-10.00', 'Total service fees', '-$40.00', 'Note your Ending Balance already reflects the subtraction of Service Fees.', 'Page 4 of 6', 'November 27, 2018 to December 24, 2018', 'Check images', 'Check number: 1148', 'Amount: $900.00', 'Check number: 1521', 'Amount: $49.00', 'THE NATERE CONSFIVANCY', 'RENEO', 'TRA1-S-001439/001439 S1 ET M1 -000001', '000005', 'Conservancy The Nature', '1148', '700 N UCCARRAN BLVD', 'CARNEL Ph BAY CA% adrist', '89451', '1521', 'e.e Wex ilst', 'DATE 12/12/18', '24-72/1224 -', 'Data 11/27/18', 'Cornell Bay, CA96140', '817Z', 'Safe Auto Transport', '900-', 'Paylothe', 'Orderof', 'CITICARDS', '$49.00', 'ORDER DE', 'Nine Hundred & 00/100', 'DELLARS @ and', '*****FORTYNINE AND 00/100*****', '206-C007495681 180', '122400724', 'SCARS 07 GL450', \"'06 EDIARE\", 'LAI', 'Memo 4100390077958227 815830260521', 'Authorizedby your Depositor 11/27/18', 'Page 5 of 6', 'This page intentionally left blank', 'Page 6 of 6']\n"
     ]
    }
   ],
   "source": [
    "with open('C:\\\\Users\\\\HP\\\\Desktop\\\\task_input_list.json') as f:\n",
    "    d = json.load(f)\n",
    "    print(d)"
   ]
  },
  {
   "cell_type": "code",
   "execution_count": 3,
   "metadata": {},
   "outputs": [],
   "source": [
    "# Creating list to store all the results which will be finally placed in the excel sheet\n",
    "insight_results = []"
   ]
  },
  {
   "cell_type": "markdown",
   "metadata": {},
   "source": [
    "Below code is to extract all phone numbers"
   ]
  },
  {
   "cell_type": "code",
   "execution_count": 4,
   "metadata": {},
   "outputs": [],
   "source": [
    "import re"
   ]
  },
  {
   "cell_type": "code",
   "execution_count": 5,
   "metadata": {},
   "outputs": [],
   "source": [
    "# There are two formats of phone numbers in the list \n",
    "format1 = re.compile(r'(\\(\\d{3}\\))(\\s)(\\d{3})-(\\d{4})')\n",
    "format2 = re.compile(r'(\\d)-(\\d{3})-(\\d{3})-(\\d{4})')"
   ]
  },
  {
   "cell_type": "code",
   "execution_count": 6,
   "metadata": {},
   "outputs": [
    {
     "name": "stdout",
     "output_type": "stream",
     "text": [
      "(555) 555-1234\n",
      "(800) 555-1234\n",
      "1-800-555-1234\n"
     ]
    }
   ],
   "source": [
    "temp_list = []\n",
    "for element in d:\n",
    "    \n",
    "    ans1 = re.search(format1,element)\n",
    "    ans2 = re.search(format2,element)\n",
    "    if ans1 != None:\n",
    "        print(ans1.group())\n",
    "        temp_list.append(ans1.group()+',')\n",
    "    elif ans2 != None:\n",
    "        print(ans2.group())\n",
    "        temp_list.append(ans2.group()+',')\n",
    "        \n",
    "insight_results.append(temp_list)"
   ]
  },
  {
   "cell_type": "markdown",
   "metadata": {},
   "source": [
    "Below code is to extract all email ids"
   ]
  },
  {
   "cell_type": "code",
   "execution_count": 7,
   "metadata": {},
   "outputs": [],
   "source": [
    "format1 = re.compile(r'(\\w{1,})\\@(\\w{1,})\\.com')"
   ]
  },
  {
   "cell_type": "code",
   "execution_count": 8,
   "metadata": {},
   "outputs": [],
   "source": [
    "email_list = []\n",
    "for element in d:\n",
    "    ans1 = re.search(format1,element)\n",
    "    if ans1 != None:\n",
    "        email_list.append(ans1.group())"
   ]
  },
  {
   "cell_type": "code",
   "execution_count": 9,
   "metadata": {},
   "outputs": [
    {
     "name": "stdout",
     "output_type": "stream",
     "text": [
      "[]\n"
     ]
    }
   ],
   "source": [
    "print(email_list)\n",
    "insight_results.append('NA')"
   ]
  },
  {
   "cell_type": "markdown",
   "metadata": {},
   "source": [
    "Below code is to extract websites"
   ]
  },
  {
   "cell_type": "code",
   "execution_count": 10,
   "metadata": {},
   "outputs": [],
   "source": [
    "format1 = re.compile(r'(\\w{1,})\\.com')"
   ]
  },
  {
   "cell_type": "code",
   "execution_count": 11,
   "metadata": {},
   "outputs": [],
   "source": [
    "website_list = []\n",
    "for element in d:\n",
    "    ans1 = re.search(format1,element)\n",
    "    if ans1 != None:\n",
    "        website_list.append(ans1.group())"
   ]
  },
  {
   "cell_type": "code",
   "execution_count": 12,
   "metadata": {},
   "outputs": [
    {
     "name": "stdout",
     "output_type": "stream",
     "text": [
      "{'bankingservices.com'}\n"
     ]
    }
   ],
   "source": [
    "print(set(website_list))\n",
    "insight_results.append(list(set(website_list)))"
   ]
  },
  {
   "cell_type": "markdown",
   "metadata": {},
   "source": [
    "Below code is to extract maximum and minimum amount"
   ]
  },
  {
   "cell_type": "code",
   "execution_count": 13,
   "metadata": {},
   "outputs": [
    {
     "name": "stdout",
     "output_type": "stream",
     "text": [
      "ABC BANK\n",
      "Preferred Rewards\n",
      "P.O. Box 12345\n",
      "Customer service information\n",
      "Wilmington, DE 144444\n",
      "0\n",
      "ph: (555) 555-1234\n",
      "TDD/TTY users only call: (800) 555-1234\n",
      "other: 1-800-555-1234\n",
      "John Doe\n",
      "bankingservices.com\n",
      "Your Adv Plus Banking\n",
      "Preferred Rewards Platinum\n",
      "for November 27, 2018 to December 24, 2018\n",
      "Account summary\n",
      "Beginning balance on November 27, 2018\n",
      "$83,576.78\n",
      "Deposits and other additions\n",
      "27,450.00\n",
      "ATM and debit card subtractions\n",
      "-0.00\n",
      "Other subtractions\n",
      "-50,923.23\n",
      "Checks\n",
      "-949.00\n",
      "Service fees\n",
      "-40.00\n",
      "Ending balance on December 24, 2018\n",
      "$59,114.55\n",
      "See all your benefits and rewards in one place\n",
      "My Rewards lets you see your Preferred Rewards benefits plus any\n",
      "Rewards\n",
      "other rewards and benefits available to you.\n",
      "Check out My Rewards at bankingservices.com/MyRewards\n",
      "Page 1 of 6\n",
      "November 27, 2018 to December 24, 2018\n",
      "IMPORTANT INFORMATION:\n",
      "BANK DEPOSIT ACCOUNTS\n",
      "How to Contact Us - You may call us at the telephone number listed on the front of this statement.\n",
      "Updating your contact information - We encourage you to keep your contact information up-to-date. This includes address, email\n",
      "and phone number. If your information has changed, the easiest way to update it is by visiting the Help & Support tab of Online\n",
      "Banking.\n",
      "Deposit agreement - When you opened your account, you received a deposit agreement and fee schedule and agreed that your\n",
      "account would be governed by the terms of these documents, as we may amend them from time to time. These documents are\n",
      "part of the contract for your deposit account and govern all transactions relating to your account, including all deposits and\n",
      "withdrawals. Copies of both the deposit agreement and fee schedule which contain the current version of the terms and\n",
      "conditions of your account relationship may be obtained at our financial centers.\n",
      "Electronic transfers: In case of errors or questions about your electronic transfers - If you think your statement or receipt is\n",
      "wrong or you need more information about an electronic transfer (e.g., ATM transactions, direct deposits or withdrawals,\n",
      "point-of-sale transactions) on the statement or receipt, telephone or write us at the address and number listed on the front of\n",
      "this statement as soon as you can. We must hear from you no later than 60 days after we sent you the FIRST statement on\n",
      "which the error or problem appeared.\n",
      "Tell us your name and account number.\n",
      "Describe the error or transfer you are unsure about, and explain as clearly as you can why you believe there is an error or\n",
      "why you need more information.\n",
      "Tell us the dollar amount of the suspected error.\n",
      "For consumer accounts used primarily for personal, family or household purposes, we will investigate your complaint and will\n",
      "correct any error promptly. If we take more than 10 business days (10 calendar days if you are a Massachusetts customer) (20\n",
      "business days if you are a new customer, for electronic transfers occurring during the first 30 days after the first deposit is\n",
      "made to your account) to do this, we will provisionally credit your account for the amount you think is in error, so that you will\n",
      "have use of the money during the time it will take to complete our investigation.\n",
      "For other accounts, we investigate, and if we find we have made an error, we credit your account at the conclusion of our\n",
      "investigation.\n",
      "Reporting other problems - You must examine your statement carefully and promptly. You are in the best position to discover\n",
      "errors and unauthorized transactions on your account. If you fail to notify us in writing of suspected problems or an unauthorized\n",
      "transaction within the time period specified in the deposit agreement (which periods are no more than 60 days after we make\n",
      "the statement available to you and in some cases are 30 days or less), we are not liable to you and you agree to not make a\n",
      "claim against us, for the problems or unauthorized transactions.\n",
      "Direct deposits - If you have arranged to have direct deposits made to your account at least once every 60 days from the same\n",
      "person or company, you may call us to find out if the deposit was made as scheduled. You may also review your activity online or\n",
      "visit a financial center for information.\n",
      "Equal Housing Lender\n",
      "Page 2 of 6\n",
      "November 27, 2018 to December 24, 2018\n",
      "Deposits and other additions\n",
      "Date\n",
      "Description\n",
      "Amount\n",
      "12/03/18\n",
      "Counter Credit\n",
      "8,075.00\n",
      "12/10/18\n",
      "Counter Credit\n",
      "9,970.00\n",
      "12/21/18\n",
      "PAYPAL\n",
      "DES:TRANSFER ID:1004561753452 INDN:\n",
      "CO\n",
      "1,000.00\n",
      "12/24/18\n",
      "Counter Credit\n",
      "8,405.00\n",
      "Total deposits and other additions\n",
      "$27,450.00\n",
      "Withdrawals and other subtractions\n",
      "Other subtractions\n",
      "Date\n",
      "Description\n",
      "Amount\n",
      "11/30/18\n",
      "Automatic Transfer to SAV 2084 Confirmation# 1313790286\n",
      "-25.00\n",
      "12/03/18\n",
      "Online Banking payment to CRD 8610 Confirmation# 0485104765\n",
      "-200.00\n",
      "12/04/18\n",
      "Customer Withdrawal Image\n",
      "-12,000.00\n",
      "12/07/18\n",
      "TRANSFER \n",
      "-3,695.00\n",
      "12/11/18\n",
      "CARFAX\n",
      "DES:BT1210 ID:000000071591462 INDN:\n",
      "CO ID:1251465303\n",
      "-399.98\n",
      "12/13/18\n",
      "TRANSFER  :J Cars Confirmation# 0472167145\n",
      "-3,955.00\n",
      "12/19/18\n",
      "TRANSFER  :J Cars Confirmation# 0423610629\n",
      "-13,990.00\n",
      "12/20/18\n",
      "SOUTHWEST GAS DES:WEB\n",
      "ID:1410023972050 INDN:JOHNSON\n",
      "CO\n",
      "-28.25\n",
      "12/21/18\n",
      "TRANSFER  :J Cars Confirmation# 1642822709\n",
      "-16,630.00\n",
      "Total other subtractions\n",
      "-$50,923.23\n",
      "Page 3 of 6\n",
      " \n",
      "November 27, 2018 to December 24, 2018\n",
      "Checks\n",
      "Date\n",
      "Check #\n",
      "Amount\n",
      "Date\n",
      "Check #\n",
      "Amount\n",
      "12/18/18\n",
      "1148\n",
      "-900.00\n",
      "11/28/18\n",
      "1521'\n",
      "-49.00\n",
      "Total checks\n",
      "-$949.00\n",
      "Total # of checks\n",
      "2\n",
      "There is a gap in sequential check numbers\n",
      "Service fees\n",
      "Date\n",
      "Transaction description\n",
      "Amount\n",
      "12/10/18\n",
      "External transfer fee - Next Day - 12/07/2018\n",
      "-10.00\n",
      "12/14/18\n",
      "External transfer fee - Next Day - 12/13/2018\n",
      "-10.00\n",
      "12/20/18\n",
      "External transfer fee - Next Day - 12/19/2018\n",
      "-10.00\n",
      "12/24/18\n",
      "External transfer fee - Next Day - 12/21/2018\n",
      "-10.00\n",
      "Total service fees\n",
      "-$40.00\n",
      "Note your Ending Balance already reflects the subtraction of Service Fees.\n",
      "Page 4 of 6\n",
      "November 27, 2018 to December 24, 2018\n",
      "Check images\n",
      "Check number: 1148\n",
      "Amount: $900.00\n",
      "Check number: 1521\n",
      "Amount: $49.00\n",
      "THE NATERE CONSFIVANCY\n",
      "RENEO\n",
      "TRA1-S-001439/001439 S1 ET M1 -000001\n",
      "000005\n",
      "Conservancy The Nature\n",
      "1148\n",
      "700 N UCCARRAN BLVD\n",
      "CARNEL Ph BAY CA% adrist\n",
      "89451\n",
      "1521\n",
      "e.e Wex ilst\n",
      "DATE 12/12/18\n",
      "24-72/1224 -\n",
      "Data 11/27/18\n",
      "Cornell Bay, CA96140\n",
      "817Z\n",
      "Safe Auto Transport\n",
      "900-\n",
      "Paylothe\n",
      "Orderof\n",
      "CITICARDS\n",
      "$49.00\n",
      "ORDER DE\n",
      "Nine Hundred & 00/100\n",
      "DELLARS @ and\n",
      "*****FORTYNINE AND 00/100*****\n",
      "206-C007495681 180\n",
      "122400724\n",
      "SCARS 07 GL450\n",
      "'06 EDIARE\n",
      "LAI\n",
      "Memo 4100390077958227 815830260521\n",
      "Authorizedby your Depositor 11/27/18\n",
      "Page 5 of 6\n",
      "This page intentionally left blank\n",
      "Page 6 of 6\n"
     ]
    }
   ],
   "source": [
    "for element in d:\n",
    "    print(element)"
   ]
  },
  {
   "cell_type": "markdown",
   "metadata": {},
   "source": [
    "By above code we can have a rough idea where our requied data could be present."
   ]
  },
  {
   "cell_type": "markdown",
   "metadata": {},
   "source": [
    "# After analyzing above output I found that the maximum required amount is after string 'Deposits and other additions' so finding the indices of this string"
   ]
  },
  {
   "cell_type": "code",
   "execution_count": 14,
   "metadata": {},
   "outputs": [
    {
     "name": "stdout",
     "output_type": "stream",
     "text": [
      "17\n",
      "74\n"
     ]
    }
   ],
   "source": [
    "# Finding index where details regarding maximum amount is starting\n",
    "index = 0\n",
    "for element in d:\n",
    "    if element == 'Deposits and other additions':\n",
    "        print(index)\n",
    "    index += 1"
   ]
  },
  {
   "cell_type": "code",
   "execution_count": 15,
   "metadata": {},
   "outputs": [
    {
     "name": "stdout",
     "output_type": "stream",
     "text": [
      "92\n"
     ]
    }
   ],
   "source": [
    "#Now finding index where details regarding maximum amount is ending\n",
    "max_amount_ending_pos = d.index('Total deposits and other additions')\n",
    "print(max_amount_ending_pos)"
   ]
  },
  {
   "cell_type": "code",
   "execution_count": 16,
   "metadata": {},
   "outputs": [
    {
     "name": "stdout",
     "output_type": "stream",
     "text": [
      "9970\n"
     ]
    }
   ],
   "source": [
    "#Finding maximum amount \n",
    "format1 = re.compile(r'(\\d+)(\\.00)')\n",
    "amount_list = []\n",
    "for i in range(80,92):\n",
    "    d[i]=d[i].replace(',','')\n",
    "    ans1 = re.search(format1,d[i])\n",
    "    if ans1 != None:\n",
    "        amount_list.append(float(ans1.group()))\n",
    "print(int(max(amount_list)))\n",
    "\n",
    "insight_results.append(int(max(amount_list)))"
   ]
  },
  {
   "cell_type": "markdown",
   "metadata": {},
   "source": [
    "# After analyzing whole output I found that the minimum required amount is after string 'Withdrawals and other subtractions' so finding the indices of this string"
   ]
  },
  {
   "cell_type": "code",
   "execution_count": 17,
   "metadata": {},
   "outputs": [
    {
     "name": "stdout",
     "output_type": "stream",
     "text": [
      "94\n"
     ]
    }
   ],
   "source": [
    "index = 0\n",
    "for element in d:\n",
    "    if element == 'Withdrawals and other subtractions':\n",
    "        print(index)\n",
    "    index += 1"
   ]
  },
  {
   "cell_type": "markdown",
   "metadata": {},
   "source": [
    "So after index 94 we have list of amount where to find minimum amount"
   ]
  },
  {
   "cell_type": "code",
   "execution_count": 18,
   "metadata": {},
   "outputs": [
    {
     "name": "stdout",
     "output_type": "stream",
     "text": [
      "130\n"
     ]
    }
   ],
   "source": [
    "#Now finding index where details regarding minimum amount is ending\n",
    "min_amount_ending_pos = d.index('Total other subtractions')\n",
    "print(min_amount_ending_pos)"
   ]
  },
  {
   "cell_type": "code",
   "execution_count": 19,
   "metadata": {},
   "outputs": [
    {
     "name": "stdout",
     "output_type": "stream",
     "text": [
      "-16630\n"
     ]
    }
   ],
   "source": [
    "#Finding minimum amount\n",
    "format2 = re.compile(r'(\\W)(\\d+)(\\.00)')\n",
    "min_amount_list = []\n",
    "for i in range(101,130):\n",
    "    d[i] = d[i].replace(',','')\n",
    "    ans1 = re.search(format1,d[i])\n",
    "    if ans1 != None:\n",
    "        min_amount_list.append(float(ans1.group()))\n",
    "print(int(max(min_amount_list)*-1))\n",
    "\n",
    "insight_results.append(int(max(min_amount_list)*-1))"
   ]
  },
  {
   "cell_type": "markdown",
   "metadata": {},
   "source": [
    "<b><h2>Putting all the result in an excel file named xlwt Task2 in 'INSIGHTS' tab</h2></b>"
   ]
  },
  {
   "cell_type": "code",
   "execution_count": 20,
   "metadata": {},
   "outputs": [],
   "source": [
    "import xlwt\n",
    "from xlwt import Workbook\n",
    "  \n",
    "# Workbook is created\n",
    "wb = Workbook()\n",
    "  \n",
    "# add_sheet is used to create sheet.\n",
    "INSIGHTS = wb.add_sheet('INSIGHTS')\n",
    "  \n",
    "INSIGHTS.write(0, 0, 'KEY')\n",
    "INSIGHTS.write(1, 0, 'website')\n",
    "INSIGHTS.write(2, 0, 'email')\n",
    "INSIGHTS.write(3, 0, 'phone number')\n",
    "INSIGHTS.write(4, 0, 'max amount')\n",
    "INSIGHTS.write(5, 0, 'min amount')\n",
    "INSIGHTS.write(0, 1, 'VALUE')\n",
    "INSIGHTS.write(1, 1, insight_results[2][0])\n",
    "INSIGHTS.write(2, 1, insight_results[1])\n",
    "INSIGHTS.write(3, 1, insight_results[0])\n",
    "INSIGHTS.write(4, 1, insight_results[3])\n",
    "INSIGHTS.write(5, 1, insight_results[4])\n",
    "wb.save('xlwt Task2.xls')"
   ]
  }
 ],
 "metadata": {
  "kernelspec": {
   "display_name": "Python 3",
   "language": "python",
   "name": "python3"
  },
  "language_info": {
   "codemirror_mode": {
    "name": "ipython",
    "version": 3
   },
   "file_extension": ".py",
   "mimetype": "text/x-python",
   "name": "python",
   "nbconvert_exporter": "python",
   "pygments_lexer": "ipython3",
   "version": "3.8.5"
  }
 },
 "nbformat": 4,
 "nbformat_minor": 4
}
