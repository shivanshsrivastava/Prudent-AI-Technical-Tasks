{
 "cells": [
  {
   "cell_type": "markdown",
   "metadata": {},
   "source": [
    "# This file contaings Task2 DEPOSITS tab code"
   ]
  },
  {
   "cell_type": "code",
   "execution_count": 1,
   "metadata": {},
   "outputs": [],
   "source": [
    "import json"
   ]
  },
  {
   "cell_type": "code",
   "execution_count": 2,
   "metadata": {},
   "outputs": [],
   "source": [
    "with open('C:\\\\Users\\\\HP\\\\Desktop\\\\task_input_list.json') as f:\n",
    "    d = json.load(f)"
   ]
  },
  {
   "cell_type": "code",
   "execution_count": 3,
   "metadata": {},
   "outputs": [],
   "source": [
    "# Creating lists to store all the results which will be finally placed in the excel sheet\n",
    "date_list = []\n",
    "description_list = []\n",
    "amount_list = []"
   ]
  },
  {
   "cell_type": "markdown",
   "metadata": {},
   "source": [
    "<h3>Note : I will be using results obtained from insights file to obtain results.</h3>"
   ]
  },
  {
   "cell_type": "code",
   "execution_count": 4,
   "metadata": {},
   "outputs": [],
   "source": [
    "# Formats of data, description and amount\n",
    "import re\n",
    "format1 = re.compile(r'(\\d{2})\\/(\\d{2})\\/(\\d{2})')\n",
    "format2 = re.compile(r'(\\d{1,})\\s(\\d{1,})')\n",
    "format3 = re.compile(r'(\\d+)(\\.00)')"
   ]
  },
  {
   "cell_type": "code",
   "execution_count": 5,
   "metadata": {},
   "outputs": [],
   "source": [
    "# Combining the strings together for one of the entry\n",
    "d[85] = d[85] + ' ' + d[86] + d[87]"
   ]
  },
  {
   "cell_type": "code",
   "execution_count": 6,
   "metadata": {},
   "outputs": [],
   "source": [
    "import re\n",
    "for i in range(75,92):\n",
    "    if i in (86,87):\n",
    "        continue\n",
    "    \n",
    "    d[i]=d[i].replace(',','')\n",
    "    ans1 = re.search(format1,d[i])\n",
    "    if ans1 != None:\n",
    "        date_list.append(ans1.group())\n",
    "        \n",
    "    else:\n",
    "        ans2 = re.search(format3,d[i])\n",
    "        if ans2 != None:\n",
    "            amount_list.append(float(ans2.group()))\n",
    "        else:\n",
    "            description_list.append(d[i]) "
   ]
  },
  {
   "cell_type": "code",
   "execution_count": 7,
   "metadata": {},
   "outputs": [],
   "source": [
    "# popping out column description\n",
    "for _ in range(3):\n",
    "    description_list.pop(0)"
   ]
  },
  {
   "cell_type": "markdown",
   "metadata": {},
   "source": [
    "<b><h2>Putting all the result in an excel file named xlwt Task2 in 'DEPOSITS' tab</h2></b>\n"
   ]
  },
  {
   "cell_type": "code",
   "execution_count": 8,
   "metadata": {},
   "outputs": [],
   "source": [
    "import xlwt\n",
    "from xlwt import Workbook\n",
    "  \n",
    "# Workbook is created\n",
    "wb = Workbook()\n",
    "  \n",
    "# add_sheet is used to create sheet.\n",
    "DEPOSITS = wb.add_sheet('DEPOSITS')\n",
    "  \n",
    "DEPOSITS.write(0, 0, 'DATE')\n",
    "DEPOSITS.write(0, 1, 'DESCRIPTION')\n",
    "DEPOSITS.write(0, 2, 'AMOUNT')\n",
    "DEPOSITS.write(0, 3, 'DAY')\n",
    "DEPOSITS.write(0, 4, 'MONTH')\n",
    "DEPOSITS.write(0, 5, 'YEAR')\n",
    "\n",
    "index = 0\n",
    "for pos in range(1,5):\n",
    "    DEPOSITS.write(pos, 0, date_list[index])\n",
    "    DEPOSITS.write(pos, 1, description_list[index])\n",
    "    DEPOSITS.write(pos, 2, amount_list[index])\n",
    "    index += 1\n",
    "    \n",
    "wb.save('xlwt Task2-4-1.xls')"
   ]
  },
  {
   "cell_type": "code",
   "execution_count": null,
   "metadata": {},
   "outputs": [],
   "source": []
  }
 ],
 "metadata": {
  "kernelspec": {
   "display_name": "Python 3",
   "language": "python",
   "name": "python3"
  },
  "language_info": {
   "codemirror_mode": {
    "name": "ipython",
    "version": 3
   },
   "file_extension": ".py",
   "mimetype": "text/x-python",
   "name": "python",
   "nbconvert_exporter": "python",
   "pygments_lexer": "ipython3",
   "version": "3.8.5"
  }
 },
 "nbformat": 4,
 "nbformat_minor": 4
}
